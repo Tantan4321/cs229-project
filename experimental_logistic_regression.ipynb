{
 "cells": [
  {
   "cell_type": "code",
   "execution_count": 27,
   "id": "2c2313fd",
   "metadata": {},
   "outputs": [],
   "source": [
    "import os\n",
    "import torch\n",
    "from tqdm import tqdm\n",
    "import numpy as np"
   ]
  },
  {
   "cell_type": "code",
   "execution_count": 28,
   "id": "21a1ffeb",
   "metadata": {},
   "outputs": [
    {
     "name": "stdout",
     "output_type": "stream",
     "text": [
      "tensor([2., 3., 1.], device='cuda:0')\n"
     ]
    }
   ],
   "source": [
    "assert torch.cuda.is_available(), 'CUDA is not correctly installed!!'\n",
    "print(torch.tensor([2.0, 3.0, 1.0]).cuda())\n",
    "property = torch.cuda.get_device_properties(0)\n",
    "\n",
    "device = torch.device(\"cuda\" if torch.cuda.is_available() else \"cpu\")"
   ]
  },
  {
   "cell_type": "code",
   "execution_count": 29,
   "id": "cd0dc67b",
   "metadata": {},
   "outputs": [
    {
     "name": "stdout",
     "output_type": "stream",
     "text": [
      "====== Your GPU info ======\n",
      "name:\t\t Tesla T4\n",
      "capability:\t v7.5\n",
      "memory:\t\t 16 Gb\n",
      "processors:\t 40\n"
     ]
    }
   ],
   "source": [
    "print('====== Your GPU info ======')\n",
    "print('name:\\t\\t', property.name)\n",
    "print('capability:\\t', 'v{}.{}'.format(property.major, property.minor))\n",
    "print('memory:\\t\\t', round(property.total_memory / 1e9), 'Gb')\n",
    "print('processors:\\t', property.multi_processor_count)"
   ]
  },
  {
   "cell_type": "code",
   "execution_count": 30,
   "id": "684d7bd3",
   "metadata": {},
   "outputs": [
    {
     "name": "stdout",
     "output_type": "stream",
     "text": [
      "(2462, 15)\n",
      "(2462, 16)\n",
      "(2462,)\n",
      "[0 0 1 ... 0 1 0]\n"
     ]
    }
   ],
   "source": [
    "from sklearn.model_selection import train_test_split\n",
    "from sklearn.datasets import make_classification\n",
    "from sklearn.preprocessing import MinMaxScaler\n",
    "from sklearn.preprocessing import StandardScaler\n",
    "import matplotlib.pyplot as plt\n",
    "\n",
    "\n",
    "# LOAD AND SPLIT DATASET HERE\n",
    "\n",
    "# Load headers\n",
    "csv_path = \"dataset_v2.csv\"\n",
    "\n",
    "with open(csv_path, 'r', newline='') as csv_fh:\n",
    "    headers = csv_fh.readline().strip().split(',')\n",
    "    \n",
    "    \n",
    "label_col = \"Price\"\n",
    "date_col = \"Date(UTC)\"\n",
    "# Load features and labels\n",
    "x_cols = [i for i in range(len(headers)) if (headers[i] != label_col and headers[i] != date_col)]\n",
    "l_cols = [i for i in range(len(headers)) if headers[i] == label_col]\n",
    "inputs = np.loadtxt(csv_path, delimiter=',', skiprows=1, usecols=x_cols)\n",
    "prices = np.loadtxt(csv_path, delimiter=',', skiprows=1, usecols=l_cols)\n",
    "\n",
    "inputs = np.delete(inputs, -1, axis=0)\n",
    "print(inputs.shape)\n",
    "\n",
    "# add intercept\n",
    "new_x = np.zeros((inputs.shape[0], inputs.shape[1] + 1), dtype=inputs.dtype)\n",
    "new_x[:, 0] = 1\n",
    "new_x[:, 1:] = inputs\n",
    "\n",
    "inputs = new_x\n",
    "print(inputs.shape)\n",
    "\n",
    "diff = np.diff(prices)\n",
    "labels = np.where(diff > 0, 1, 0)\n",
    "print(labels.shape)\n",
    "print(labels)\n",
    "\n",
    "# Feature engineering\n",
    "norm = MinMaxScaler().fit(inputs)\n",
    "inputs = norm.transform(inputs)\n",
    "\n",
    "# apply standardization on numerical features\n",
    "for i in range(inputs.shape[1]):\n",
    "    \n",
    "    # fit on training data column\n",
    "    scale = StandardScaler().fit(inputs[[i]])\n",
    "    \n",
    "    # transform the training data column\n",
    "    inputs[i] = scale.transform(inputs[[i]])\n",
    "\n",
    "\n",
    "X_train, X_test, y_train,  y_test = train_test_split(\n",
    "    inputs, labels, test_size=0.1, random_state=42)\n"
   ]
  },
  {
   "cell_type": "code",
   "execution_count": 31,
   "id": "143fd703",
   "metadata": {},
   "outputs": [],
   "source": [
    "import torch.nn.functional as F\n",
    "\n",
    "class LogisticRegression(torch.nn.Module):\n",
    "    def __init__(self, input_dim, output_dim):\n",
    "        super(LogisticRegression, self).__init__()\n",
    "        self.layer1 = torch.nn.Linear(input_dim,50)\n",
    "        self.layer2 = torch.nn.Linear(50, 10)\n",
    "        self.layer3 = torch.nn.Linear(10, output_dim)\n",
    "        \n",
    "    def forward(self, x):\n",
    "        x = torch.sigmoid(self.layer1(x))\n",
    "        x = torch.sigmoid(self.layer2(x))\n",
    "        x = torch.sigmoid(self.layer3(x)) # To check with the loss function\n",
    "        return x"
   ]
  },
  {
   "cell_type": "code",
   "execution_count": 32,
   "id": "fbe9b849",
   "metadata": {},
   "outputs": [],
   "source": [
    "epochs = 1000000\n",
    "input_dim = inputs.shape[1] # features \n",
    "output_dim = 1 # price\n",
    "learning_rate = 0.005\n",
    "\n",
    "model = LogisticRegression(input_dim,output_dim).to(device)\n",
    "\n",
    "criterion = torch.nn.BCELoss()\n",
    "\n",
    "optimizer = torch.optim.SGD(model.parameters(), lr=learning_rate)"
   ]
  },
  {
   "cell_type": "code",
   "execution_count": 33,
   "id": "9ed4fbd7",
   "metadata": {},
   "outputs": [],
   "source": [
    "# Convert data to tensors, move onto GPU\n",
    "\n",
    "X_train, X_test = torch.Tensor(X_train).to(device), torch.Tensor(X_test).to(device)\n",
    "y_train, y_test = torch.Tensor(y_train).to(device), torch.Tensor(y_test).to(device)"
   ]
  },
  {
   "cell_type": "code",
   "execution_count": 34,
   "id": "ef2f6b4d",
   "metadata": {},
   "outputs": [
    {
     "name": "stderr",
     "output_type": "stream",
     "text": [
      "Training Epochs:   0%|                  | 226/1000000 [00:00<14:46, 1127.52it/s]"
     ]
    },
    {
     "name": "stdout",
     "output_type": "stream",
     "text": [
      "Iteration: 0. \n",
      "Test - Loss: 0.6974973678588867. Accuracy: 48.582995951417004\n",
      "Train -  Loss: 0.6961884498596191. Accuracy: 49.52595936794582\n",
      "\n"
     ]
    },
    {
     "name": "stderr",
     "output_type": "stream",
     "text": [
      "Training Epochs:   1%|▏               | 10171/1000000 [00:08<14:31, 1136.31it/s]"
     ]
    },
    {
     "name": "stdout",
     "output_type": "stream",
     "text": [
      "Iteration: 10000. \n",
      "Test - Loss: 0.6929652094841003. Accuracy: 51.417004048582996\n",
      "Train -  Loss: 0.6930874586105347. Accuracy: 50.47404063205418\n",
      "\n"
     ]
    },
    {
     "name": "stderr",
     "output_type": "stream",
     "text": [
      "Training Epochs:   2%|▎               | 20152/1000000 [00:17<14:20, 1138.80it/s]"
     ]
    },
    {
     "name": "stdout",
     "output_type": "stream",
     "text": [
      "Iteration: 20000. \n",
      "Test - Loss: 0.6929425001144409. Accuracy: 51.417004048582996\n",
      "Train -  Loss: 0.693055272102356. Accuracy: 50.47404063205418\n",
      "\n"
     ]
    },
    {
     "name": "stderr",
     "output_type": "stream",
     "text": [
      "Training Epochs:   3%|▌                | 30115/1000000 [00:27<20:26, 790.49it/s]"
     ]
    },
    {
     "name": "stdout",
     "output_type": "stream",
     "text": [
      "Iteration: 30000. \n",
      "Test - Loss: 0.6929199695587158. Accuracy: 51.417004048582996\n",
      "Train -  Loss: 0.6930225491523743. Accuracy: 50.47404063205418\n",
      "\n"
     ]
    },
    {
     "name": "stderr",
     "output_type": "stream",
     "text": [
      "Training Epochs:   4%|▋               | 40143/1000000 [00:36<14:07, 1133.13it/s]"
     ]
    },
    {
     "name": "stdout",
     "output_type": "stream",
     "text": [
      "Iteration: 40000. \n",
      "Test - Loss: 0.6928967833518982. Accuracy: 51.417004048582996\n",
      "Train -  Loss: 0.6929885149002075. Accuracy: 50.47404063205418\n",
      "\n"
     ]
    },
    {
     "name": "stderr",
     "output_type": "stream",
     "text": [
      "Training Epochs:   5%|▊               | 50141/1000000 [00:45<14:04, 1124.27it/s]"
     ]
    },
    {
     "name": "stdout",
     "output_type": "stream",
     "text": [
      "Iteration: 50000. \n",
      "Test - Loss: 0.6928727030754089. Accuracy: 51.417004048582996\n",
      "Train -  Loss: 0.692952573299408. Accuracy: 50.47404063205418\n",
      "\n"
     ]
    },
    {
     "name": "stderr",
     "output_type": "stream",
     "text": [
      "Training Epochs:   6%|▉               | 60198/1000000 [00:54<14:00, 1118.02it/s]"
     ]
    },
    {
     "name": "stdout",
     "output_type": "stream",
     "text": [
      "Iteration: 60000. \n",
      "Test - Loss: 0.6928471326828003. Accuracy: 51.417004048582996\n",
      "Train -  Loss: 0.6929139494895935. Accuracy: 50.47404063205418\n",
      "\n"
     ]
    },
    {
     "name": "stderr",
     "output_type": "stream",
     "text": [
      "Training Epochs:   7%|█               | 70125/1000000 [01:03<13:42, 1130.26it/s]"
     ]
    },
    {
     "name": "stdout",
     "output_type": "stream",
     "text": [
      "Iteration: 70000. \n",
      "Test - Loss: 0.6928195953369141. Accuracy: 51.417004048582996\n",
      "Train -  Loss: 0.6928720474243164. Accuracy: 50.47404063205418\n",
      "\n"
     ]
    },
    {
     "name": "stderr",
     "output_type": "stream",
     "text": [
      "Training Epochs:   8%|█▎              | 80176/1000000 [01:12<13:31, 1134.11it/s]"
     ]
    },
    {
     "name": "stdout",
     "output_type": "stream",
     "text": [
      "Iteration: 80000. \n",
      "Test - Loss: 0.6927896738052368. Accuracy: 51.417004048582996\n",
      "Train -  Loss: 0.692825973033905. Accuracy: 50.519187358916476\n",
      "\n"
     ]
    },
    {
     "name": "stderr",
     "output_type": "stream",
     "text": [
      "Training Epochs:   9%|█▍              | 90216/1000000 [01:21<13:21, 1135.48it/s]"
     ]
    },
    {
     "name": "stdout",
     "output_type": "stream",
     "text": [
      "Iteration: 90000. \n",
      "Test - Loss: 0.6927570700645447. Accuracy: 51.417004048582996\n",
      "Train -  Loss: 0.692775309085846. Accuracy: 50.42889390519187\n",
      "\n"
     ]
    },
    {
     "name": "stderr",
     "output_type": "stream",
     "text": [
      "Training Epochs:  10%|█▌             | 100131/1000000 [01:31<12:56, 1158.55it/s]"
     ]
    },
    {
     "name": "stdout",
     "output_type": "stream",
     "text": [
      "Iteration: 100000. \n",
      "Test - Loss: 0.6927213668823242. Accuracy: 51.012145748987855\n",
      "Train -  Loss: 0.6927192807197571. Accuracy: 50.42889390519187\n",
      "\n"
     ]
    },
    {
     "name": "stderr",
     "output_type": "stream",
     "text": [
      "Training Epochs:  11%|█▋             | 110149/1000000 [01:40<13:09, 1126.83it/s]"
     ]
    },
    {
     "name": "stdout",
     "output_type": "stream",
     "text": [
      "Iteration: 110000. \n",
      "Test - Loss: 0.692682147026062. Accuracy: 53.441295546558706\n",
      "Train -  Loss: 0.6926573514938354. Accuracy: 52.50564334085779\n",
      "\n"
     ]
    },
    {
     "name": "stderr",
     "output_type": "stream",
     "text": [
      "Training Epochs:  12%|█▊             | 120162/1000000 [01:49<12:49, 1142.91it/s]"
     ]
    },
    {
     "name": "stdout",
     "output_type": "stream",
     "text": [
      "Iteration: 120000. \n",
      "Test - Loss: 0.6926394701004028. Accuracy: 53.441295546558706\n",
      "Train -  Loss: 0.6925891041755676. Accuracy: 51.963882618510155\n",
      "\n"
     ]
    },
    {
     "name": "stderr",
     "output_type": "stream",
     "text": [
      "Training Epochs:  13%|█▉             | 130198/1000000 [01:58<12:47, 1132.65it/s]"
     ]
    },
    {
     "name": "stdout",
     "output_type": "stream",
     "text": [
      "Iteration: 130000. \n",
      "Test - Loss: 0.6925932168960571. Accuracy: 53.036437246963565\n",
      "Train -  Loss: 0.692514181137085. Accuracy: 51.46726862302483\n",
      "\n"
     ]
    },
    {
     "name": "stderr",
     "output_type": "stream",
     "text": [
      "Training Epochs:  14%|██             | 140165/1000000 [02:07<12:33, 1141.23it/s]"
     ]
    },
    {
     "name": "stdout",
     "output_type": "stream",
     "text": [
      "Iteration: 140000. \n",
      "Test - Loss: 0.6925437450408936. Accuracy: 54.25101214574899\n",
      "Train -  Loss: 0.6924329400062561. Accuracy: 51.78329571106095\n",
      "\n"
     ]
    },
    {
     "name": "stderr",
     "output_type": "stream",
     "text": [
      "Training Epochs:  15%|██▎            | 150208/1000000 [02:16<12:39, 1118.62it/s]"
     ]
    },
    {
     "name": "stdout",
     "output_type": "stream",
     "text": [
      "Iteration: 150000. \n",
      "Test - Loss: 0.692491888999939. Accuracy: 53.441295546558706\n",
      "Train -  Loss: 0.6923457384109497. Accuracy: 51.78329571106095\n",
      "\n"
     ]
    },
    {
     "name": "stderr",
     "output_type": "stream",
     "text": [
      "Training Epochs:  16%|██▍            | 160126/1000000 [02:24<12:52, 1087.30it/s]"
     ]
    },
    {
     "name": "stdout",
     "output_type": "stream",
     "text": [
      "Iteration: 160000. \n",
      "Test - Loss: 0.6924384236335754. Accuracy: 53.441295546558706\n",
      "Train -  Loss: 0.6922536492347717. Accuracy: 51.918735891647856\n",
      "\n"
     ]
    },
    {
     "name": "stderr",
     "output_type": "stream",
     "text": [
      "Training Epochs:  17%|██▌            | 170227/1000000 [02:35<12:10, 1136.19it/s]"
     ]
    },
    {
     "name": "stdout",
     "output_type": "stream",
     "text": [
      "Iteration: 170000. \n",
      "Test - Loss: 0.6923847794532776. Accuracy: 53.441295546558706\n",
      "Train -  Loss: 0.6921582221984863. Accuracy: 51.82844243792325\n",
      "\n"
     ]
    },
    {
     "name": "stderr",
     "output_type": "stream",
     "text": [
      "Training Epochs:  18%|██▋            | 180176/1000000 [02:43<11:57, 1143.06it/s]"
     ]
    },
    {
     "name": "stdout",
     "output_type": "stream",
     "text": [
      "Iteration: 180000. \n",
      "Test - Loss: 0.6923326849937439. Accuracy: 53.036437246963565\n",
      "Train -  Loss: 0.6920614242553711. Accuracy: 51.64785553047404\n",
      "\n"
     ]
    },
    {
     "name": "stderr",
     "output_type": "stream",
     "text": [
      "Training Epochs:  19%|██▊            | 190123/1000000 [02:52<11:58, 1126.72it/s]"
     ]
    },
    {
     "name": "stdout",
     "output_type": "stream",
     "text": [
      "Iteration: 190000. \n",
      "Test - Loss: 0.692284107208252. Accuracy: 53.441295546558706\n",
      "Train -  Loss: 0.6919660568237305. Accuracy: 51.64785553047404\n",
      "\n"
     ]
    },
    {
     "name": "stderr",
     "output_type": "stream",
     "text": [
      "Training Epochs:  20%|███            | 200120/1000000 [03:01<11:31, 1155.95it/s]"
     ]
    },
    {
     "name": "stdout",
     "output_type": "stream",
     "text": [
      "Iteration: 200000. \n",
      "Test - Loss: 0.6922410130500793. Accuracy: 53.441295546558706\n",
      "Train -  Loss: 0.6918744444847107. Accuracy: 51.64785553047404\n",
      "\n"
     ]
    },
    {
     "name": "stderr",
     "output_type": "stream",
     "text": [
      "Training Epochs:  21%|███▏           | 210191/1000000 [03:10<11:53, 1106.72it/s]"
     ]
    },
    {
     "name": "stdout",
     "output_type": "stream",
     "text": [
      "Iteration: 210000. \n",
      "Test - Loss: 0.6922048926353455. Accuracy: 52.63157894736842\n",
      "Train -  Loss: 0.6917893886566162. Accuracy: 51.918735891647856\n",
      "\n"
     ]
    },
    {
     "name": "stderr",
     "output_type": "stream",
     "text": [
      "Training Epochs:  22%|███▎           | 220183/1000000 [03:19<11:42, 1110.09it/s]"
     ]
    },
    {
     "name": "stdout",
     "output_type": "stream",
     "text": [
      "Iteration: 220000. \n",
      "Test - Loss: 0.6921765804290771. Accuracy: 52.63157894736842\n",
      "Train -  Loss: 0.6917125582695007. Accuracy: 52.18961625282167\n",
      "\n"
     ]
    },
    {
     "name": "stderr",
     "output_type": "stream",
     "text": [
      "Training Epochs:  23%|███▋            | 230094/1000000 [03:29<17:00, 754.46it/s]"
     ]
    },
    {
     "name": "stdout",
     "output_type": "stream",
     "text": [
      "Iteration: 230000. \n",
      "Test - Loss: 0.6921564340591431. Accuracy: 53.036437246963565\n",
      "Train -  Loss: 0.6916452050209045. Accuracy: 52.41534988713318\n",
      "\n"
     ]
    },
    {
     "name": "stderr",
     "output_type": "stream",
     "text": [
      "Training Epochs:  24%|███▌           | 240185/1000000 [03:38<11:05, 1140.91it/s]"
     ]
    },
    {
     "name": "stdout",
     "output_type": "stream",
     "text": [
      "Iteration: 240000. \n",
      "Test - Loss: 0.6921437978744507. Accuracy: 53.036437246963565\n",
      "Train -  Loss: 0.691587507724762. Accuracy: 52.27990970654628\n",
      "\n"
     ]
    },
    {
     "name": "stderr",
     "output_type": "stream",
     "text": [
      "Training Epochs:  25%|███▊           | 250186/1000000 [03:47<11:07, 1123.49it/s]"
     ]
    },
    {
     "name": "stdout",
     "output_type": "stream",
     "text": [
      "Iteration: 250000. \n",
      "Test - Loss: 0.6921378374099731. Accuracy: 53.036437246963565\n",
      "Train -  Loss: 0.6915389895439148. Accuracy: 52.37020316027088\n",
      "\n"
     ]
    },
    {
     "name": "stderr",
     "output_type": "stream",
     "text": [
      "Training Epochs:  26%|███▉           | 260209/1000000 [03:56<10:44, 1147.49it/s]"
     ]
    },
    {
     "name": "stdout",
     "output_type": "stream",
     "text": [
      "Iteration: 260000. \n",
      "Test - Loss: 0.6921367645263672. Accuracy: 53.441295546558706\n",
      "Train -  Loss: 0.6914985775947571. Accuracy: 52.59593679458239\n",
      "\n"
     ]
    },
    {
     "name": "stderr",
     "output_type": "stream",
     "text": [
      "Training Epochs:  27%|████           | 270196/1000000 [04:04<10:41, 1138.43it/s]"
     ]
    },
    {
     "name": "stdout",
     "output_type": "stream",
     "text": [
      "Iteration: 270000. \n",
      "Test - Loss: 0.6921390891075134. Accuracy: 53.84615384615385\n",
      "Train -  Loss: 0.6914646625518799. Accuracy: 52.86681715575621\n",
      "\n"
     ]
    },
    {
     "name": "stderr",
     "output_type": "stream",
     "text": [
      "Training Epochs:  28%|████▏          | 280124/1000000 [04:13<10:28, 1144.84it/s]"
     ]
    },
    {
     "name": "stdout",
     "output_type": "stream",
     "text": [
      "Iteration: 280000. \n",
      "Test - Loss: 0.692143440246582. Accuracy: 53.84615384615385\n",
      "Train -  Loss: 0.6914357542991638. Accuracy: 52.957110609480814\n",
      "\n"
     ]
    },
    {
     "name": "stderr",
     "output_type": "stream",
     "text": [
      "Training Epochs:  29%|████▎          | 290223/1000000 [04:22<10:32, 1121.92it/s]"
     ]
    },
    {
     "name": "stdout",
     "output_type": "stream",
     "text": [
      "Iteration: 290000. \n",
      "Test - Loss: 0.6921486258506775. Accuracy: 53.84615384615385\n",
      "Train -  Loss: 0.6914106607437134. Accuracy: 52.8216704288939\n",
      "\n"
     ]
    },
    {
     "name": "stderr",
     "output_type": "stream",
     "text": [
      "Training Epochs:  30%|████▌          | 300136/1000000 [04:32<10:38, 1096.74it/s]"
     ]
    },
    {
     "name": "stdout",
     "output_type": "stream",
     "text": [
      "Iteration: 300000. \n",
      "Test - Loss: 0.692153811454773. Accuracy: 53.84615384615385\n",
      "Train -  Loss: 0.691387951374054. Accuracy: 52.8216704288939\n",
      "\n"
     ]
    },
    {
     "name": "stderr",
     "output_type": "stream",
     "text": [
      "Training Epochs:  31%|████▋          | 310165/1000000 [04:41<10:04, 1140.96it/s]"
     ]
    },
    {
     "name": "stdout",
     "output_type": "stream",
     "text": [
      "Iteration: 310000. \n",
      "Test - Loss: 0.6921584010124207. Accuracy: 53.441295546558706\n",
      "Train -  Loss: 0.6913670301437378. Accuracy: 52.91196388261851\n",
      "\n"
     ]
    },
    {
     "name": "stderr",
     "output_type": "stream",
     "text": [
      "Training Epochs:  32%|████▊          | 320125/1000000 [04:50<09:55, 1141.61it/s]"
     ]
    },
    {
     "name": "stdout",
     "output_type": "stream",
     "text": [
      "Iteration: 320000. \n",
      "Test - Loss: 0.692162036895752. Accuracy: 53.036437246963565\n",
      "Train -  Loss: 0.6913469433784485. Accuracy: 52.957110609480814\n",
      "\n"
     ]
    },
    {
     "name": "stderr",
     "output_type": "stream",
     "text": [
      "Training Epochs:  33%|████▉          | 330133/1000000 [04:59<10:47, 1034.28it/s]"
     ]
    },
    {
     "name": "stdout",
     "output_type": "stream",
     "text": [
      "Iteration: 330000. \n",
      "Test - Loss: 0.6921648979187012. Accuracy: 53.036437246963565\n",
      "Train -  Loss: 0.6913273334503174. Accuracy: 52.86681715575621\n",
      "\n"
     ]
    },
    {
     "name": "stderr",
     "output_type": "stream",
     "text": [
      "Training Epochs:  34%|█████          | 340167/1000000 [05:07<09:45, 1126.14it/s]"
     ]
    },
    {
     "name": "stdout",
     "output_type": "stream",
     "text": [
      "Iteration: 340000. \n",
      "Test - Loss: 0.6921666264533997. Accuracy: 53.036437246963565\n",
      "Train -  Loss: 0.6913079619407654. Accuracy: 52.91196388261851\n",
      "\n"
     ]
    },
    {
     "name": "stderr",
     "output_type": "stream",
     "text": [
      "Training Epochs:  35%|█████▎         | 350156/1000000 [05:16<09:25, 1148.80it/s]"
     ]
    },
    {
     "name": "stdout",
     "output_type": "stream",
     "text": [
      "Iteration: 350000. \n",
      "Test - Loss: 0.6921674609184265. Accuracy: 53.441295546558706\n",
      "Train -  Loss: 0.691288411617279. Accuracy: 52.957110609480814\n",
      "\n"
     ]
    },
    {
     "name": "stderr",
     "output_type": "stream",
     "text": [
      "Training Epochs:  36%|█████▊          | 360054/1000000 [05:25<11:16, 946.51it/s]"
     ]
    },
    {
     "name": "stdout",
     "output_type": "stream",
     "text": [
      "Iteration: 360000. \n",
      "Test - Loss: 0.6921675801277161. Accuracy: 53.84615384615385\n",
      "Train -  Loss: 0.6912686824798584. Accuracy: 52.91196388261851\n",
      "\n"
     ]
    },
    {
     "name": "stderr",
     "output_type": "stream",
     "text": [
      "Training Epochs:  37%|█████▌         | 370123/1000000 [05:35<09:13, 1138.92it/s]"
     ]
    },
    {
     "name": "stdout",
     "output_type": "stream",
     "text": [
      "Iteration: 370000. \n",
      "Test - Loss: 0.6921666264533997. Accuracy: 53.441295546558706\n",
      "Train -  Loss: 0.6912485957145691. Accuracy: 52.91196388261851\n",
      "\n"
     ]
    },
    {
     "name": "stderr",
     "output_type": "stream",
     "text": [
      "Training Epochs:  38%|█████▋         | 380189/1000000 [05:44<09:36, 1074.76it/s]"
     ]
    },
    {
     "name": "stdout",
     "output_type": "stream",
     "text": [
      "Iteration: 380000. \n",
      "Test - Loss: 0.6921650171279907. Accuracy: 53.441295546558706\n",
      "Train -  Loss: 0.6912281513214111. Accuracy: 53.04740406320542\n",
      "\n"
     ]
    },
    {
     "name": "stderr",
     "output_type": "stream",
     "text": [
      "Training Epochs:  39%|█████▊         | 390223/1000000 [05:53<08:51, 1146.69it/s]"
     ]
    },
    {
     "name": "stdout",
     "output_type": "stream",
     "text": [
      "Iteration: 390000. \n",
      "Test - Loss: 0.692162811756134. Accuracy: 53.441295546558706\n",
      "Train -  Loss: 0.6912070512771606. Accuracy: 52.91196388261851\n",
      "\n"
     ]
    },
    {
     "name": "stderr",
     "output_type": "stream",
     "text": [
      "Training Epochs:  40%|██████         | 400152/1000000 [06:01<08:44, 1142.96it/s]"
     ]
    },
    {
     "name": "stdout",
     "output_type": "stream",
     "text": [
      "Iteration: 400000. \n",
      "Test - Loss: 0.6921600699424744. Accuracy: 53.036437246963565\n",
      "Train -  Loss: 0.6911852955818176. Accuracy: 52.8216704288939\n",
      "\n"
     ]
    },
    {
     "name": "stderr",
     "output_type": "stream",
     "text": [
      "Training Epochs:  41%|██████▏        | 410225/1000000 [06:10<08:31, 1152.27it/s]"
     ]
    },
    {
     "name": "stdout",
     "output_type": "stream",
     "text": [
      "Iteration: 410000. \n",
      "Test - Loss: 0.6921567320823669. Accuracy: 53.036437246963565\n",
      "Train -  Loss: 0.6911631226539612. Accuracy: 52.776523702031604\n",
      "\n"
     ]
    },
    {
     "name": "stderr",
     "output_type": "stream",
     "text": [
      "Training Epochs:  42%|██████▎        | 420162/1000000 [06:19<08:34, 1126.91it/s]"
     ]
    },
    {
     "name": "stdout",
     "output_type": "stream",
     "text": [
      "Iteration: 420000. \n",
      "Test - Loss: 0.6921527981758118. Accuracy: 52.63157894736842\n",
      "Train -  Loss: 0.691140353679657. Accuracy: 52.86681715575621\n",
      "\n"
     ]
    },
    {
     "name": "stderr",
     "output_type": "stream",
     "text": [
      "Training Epochs:  43%|██████▉         | 430179/1000000 [06:29<10:09, 935.41it/s]"
     ]
    },
    {
     "name": "stdout",
     "output_type": "stream",
     "text": [
      "Iteration: 430000. \n",
      "Test - Loss: 0.6921484470367432. Accuracy: 52.22672064777328\n",
      "Train -  Loss: 0.6911169290542603. Accuracy: 52.91196388261851\n",
      "\n"
     ]
    },
    {
     "name": "stderr",
     "output_type": "stream",
     "text": [
      "Training Epochs:  44%|██████▌        | 440187/1000000 [06:38<08:13, 1134.34it/s]"
     ]
    },
    {
     "name": "stdout",
     "output_type": "stream",
     "text": [
      "Iteration: 440000. \n",
      "Test - Loss: 0.6921436190605164. Accuracy: 52.22672064777328\n",
      "Train -  Loss: 0.6910927295684814. Accuracy: 52.7313769751693\n",
      "\n"
     ]
    },
    {
     "name": "stderr",
     "output_type": "stream",
     "text": [
      "Training Epochs:  45%|██████▊        | 450152/1000000 [06:47<08:00, 1144.48it/s]"
     ]
    },
    {
     "name": "stdout",
     "output_type": "stream",
     "text": [
      "Iteration: 450000. \n",
      "Test - Loss: 0.6921384334564209. Accuracy: 52.22672064777328\n",
      "Train -  Loss: 0.691067636013031. Accuracy: 52.776523702031604\n",
      "\n"
     ]
    },
    {
     "name": "stderr",
     "output_type": "stream",
     "text": [
      "Training Epochs:  46%|██████▉        | 460162/1000000 [06:55<07:46, 1158.41it/s]"
     ]
    },
    {
     "name": "stdout",
     "output_type": "stream",
     "text": [
      "Iteration: 460000. \n",
      "Test - Loss: 0.6921324729919434. Accuracy: 53.036437246963565\n",
      "Train -  Loss: 0.6910420656204224. Accuracy: 52.91196388261851\n",
      "\n"
     ]
    },
    {
     "name": "stderr",
     "output_type": "stream",
     "text": [
      "Training Epochs:  47%|███████        | 470169/1000000 [07:04<07:46, 1134.87it/s]"
     ]
    },
    {
     "name": "stdout",
     "output_type": "stream",
     "text": [
      "Iteration: 470000. \n",
      "Test - Loss: 0.6921260952949524. Accuracy: 53.441295546558706\n",
      "Train -  Loss: 0.6910154819488525. Accuracy: 52.86681715575621\n",
      "\n"
     ]
    },
    {
     "name": "stderr",
     "output_type": "stream",
     "text": [
      "Training Epochs:  48%|███████▏       | 480124/1000000 [07:13<07:30, 1154.07it/s]"
     ]
    },
    {
     "name": "stdout",
     "output_type": "stream",
     "text": [
      "Iteration: 480000. \n",
      "Test - Loss: 0.6921194195747375. Accuracy: 53.84615384615385\n",
      "Train -  Loss: 0.6909881830215454. Accuracy: 52.86681715575621\n",
      "\n"
     ]
    },
    {
     "name": "stderr",
     "output_type": "stream",
     "text": [
      "Training Epochs:  49%|███████▎       | 490131/1000000 [07:22<07:23, 1149.74it/s]"
     ]
    },
    {
     "name": "stdout",
     "output_type": "stream",
     "text": [
      "Iteration: 490000. \n",
      "Test - Loss: 0.6921122670173645. Accuracy: 53.441295546558706\n",
      "Train -  Loss: 0.6909599304199219. Accuracy: 52.91196388261851\n",
      "\n"
     ]
    },
    {
     "name": "stderr",
     "output_type": "stream",
     "text": [
      "Training Epochs:  50%|███████▌       | 500137/1000000 [07:32<07:33, 1102.73it/s]"
     ]
    },
    {
     "name": "stdout",
     "output_type": "stream",
     "text": [
      "Iteration: 500000. \n",
      "Test - Loss: 0.692104697227478. Accuracy: 53.441295546558706\n",
      "Train -  Loss: 0.6909307241439819. Accuracy: 53.00225733634311\n",
      "\n"
     ]
    },
    {
     "name": "stderr",
     "output_type": "stream",
     "text": [
      "Training Epochs:  51%|███████▋       | 510198/1000000 [07:41<07:07, 1145.12it/s]"
     ]
    },
    {
     "name": "stdout",
     "output_type": "stream",
     "text": [
      "Iteration: 510000. \n",
      "Test - Loss: 0.6920963525772095. Accuracy: 53.441295546558706\n",
      "Train -  Loss: 0.6909007430076599. Accuracy: 53.00225733634311\n",
      "\n"
     ]
    },
    {
     "name": "stderr",
     "output_type": "stream",
     "text": [
      "Training Epochs:  52%|███████▊       | 520133/1000000 [07:49<07:03, 1133.72it/s]"
     ]
    },
    {
     "name": "stdout",
     "output_type": "stream",
     "text": [
      "Iteration: 520000. \n",
      "Test - Loss: 0.6920877695083618. Accuracy: 53.441295546558706\n",
      "Train -  Loss: 0.6908696889877319. Accuracy: 52.957110609480814\n",
      "\n"
     ]
    },
    {
     "name": "stderr",
     "output_type": "stream",
     "text": [
      "Training Epochs:  53%|███████▉       | 530197/1000000 [07:58<06:54, 1132.75it/s]"
     ]
    },
    {
     "name": "stdout",
     "output_type": "stream",
     "text": [
      "Iteration: 530000. \n",
      "Test - Loss: 0.6920783519744873. Accuracy: 53.441295546558706\n",
      "Train -  Loss: 0.6908377408981323. Accuracy: 53.04740406320542\n",
      "\n"
     ]
    },
    {
     "name": "stderr",
     "output_type": "stream",
     "text": [
      "Training Epochs:  54%|████████       | 540142/1000000 [08:07<06:41, 1144.17it/s]"
     ]
    },
    {
     "name": "stdout",
     "output_type": "stream",
     "text": [
      "Iteration: 540000. \n",
      "Test - Loss: 0.6920685768127441. Accuracy: 53.036437246963565\n",
      "Train -  Loss: 0.6908047795295715. Accuracy: 53.09255079006772\n",
      "\n"
     ]
    },
    {
     "name": "stderr",
     "output_type": "stream",
     "text": [
      "Training Epochs:  55%|████████▎      | 550137/1000000 [08:16<06:30, 1150.93it/s]"
     ]
    },
    {
     "name": "stdout",
     "output_type": "stream",
     "text": [
      "Iteration: 550000. \n",
      "Test - Loss: 0.6920581459999084. Accuracy: 53.441295546558706\n",
      "Train -  Loss: 0.69077068567276. Accuracy: 53.04740406320542\n",
      "\n"
     ]
    },
    {
     "name": "stderr",
     "output_type": "stream",
     "text": [
      "Training Epochs:  56%|████████▍      | 560213/1000000 [08:24<06:34, 1115.27it/s]"
     ]
    },
    {
     "name": "stdout",
     "output_type": "stream",
     "text": [
      "Iteration: 560000. \n",
      "Test - Loss: 0.692047119140625. Accuracy: 53.441295546558706\n",
      "Train -  Loss: 0.6907355785369873. Accuracy: 53.182844243792324\n",
      "\n"
     ]
    },
    {
     "name": "stderr",
     "output_type": "stream",
     "text": [
      "Training Epochs:  57%|████████▌      | 570203/1000000 [08:35<06:31, 1097.04it/s]"
     ]
    },
    {
     "name": "stdout",
     "output_type": "stream",
     "text": [
      "Iteration: 570000. \n",
      "Test - Loss: 0.6920351982116699. Accuracy: 53.036437246963565\n",
      "Train -  Loss: 0.6906996369361877. Accuracy: 53.27313769751693\n",
      "\n"
     ]
    },
    {
     "name": "stderr",
     "output_type": "stream",
     "text": [
      "Training Epochs:  58%|████████▋      | 580191/1000000 [08:44<06:15, 1117.62it/s]"
     ]
    },
    {
     "name": "stdout",
     "output_type": "stream",
     "text": [
      "Iteration: 580000. \n",
      "Test - Loss: 0.6920229196548462. Accuracy: 53.036437246963565\n",
      "Train -  Loss: 0.6906625628471375. Accuracy: 53.182844243792324\n",
      "\n"
     ]
    },
    {
     "name": "stderr",
     "output_type": "stream",
     "text": [
      "Training Epochs:  59%|████████▊      | 590191/1000000 [08:52<05:57, 1144.77it/s]"
     ]
    },
    {
     "name": "stdout",
     "output_type": "stream",
     "text": [
      "Iteration: 590000. \n",
      "Test - Loss: 0.6920100450515747. Accuracy: 53.036437246963565\n",
      "Train -  Loss: 0.6906245350837708. Accuracy: 53.22799097065463\n",
      "\n"
     ]
    },
    {
     "name": "stderr",
     "output_type": "stream",
     "text": [
      "Training Epochs:  60%|█████████      | 600231/1000000 [09:01<05:44, 1159.42it/s]"
     ]
    },
    {
     "name": "stdout",
     "output_type": "stream",
     "text": [
      "Iteration: 600000. \n",
      "Test - Loss: 0.6919968724250793. Accuracy: 53.036437246963565\n",
      "Train -  Loss: 0.6905854344367981. Accuracy: 53.09255079006772\n",
      "\n"
     ]
    },
    {
     "name": "stderr",
     "output_type": "stream",
     "text": [
      "Training Epochs:  61%|█████████▏     | 610118/1000000 [09:10<05:40, 1146.06it/s]"
     ]
    },
    {
     "name": "stdout",
     "output_type": "stream",
     "text": [
      "Iteration: 610000. \n",
      "Test - Loss: 0.6919829249382019. Accuracy: 52.63157894736842\n",
      "Train -  Loss: 0.690545380115509. Accuracy: 53.137697516930025\n",
      "\n"
     ]
    },
    {
     "name": "stderr",
     "output_type": "stream",
     "text": [
      "Training Epochs:  62%|█████████▎     | 620165/1000000 [09:19<05:30, 1149.48it/s]"
     ]
    },
    {
     "name": "stdout",
     "output_type": "stream",
     "text": [
      "Iteration: 620000. \n",
      "Test - Loss: 0.6919682621955872. Accuracy: 53.036437246963565\n",
      "Train -  Loss: 0.6905044913291931. Accuracy: 53.00225733634311\n",
      "\n"
     ]
    },
    {
     "name": "stderr",
     "output_type": "stream",
     "text": [
      "Training Epochs:  63%|██████████      | 630103/1000000 [09:28<07:49, 787.87it/s]"
     ]
    },
    {
     "name": "stdout",
     "output_type": "stream",
     "text": [
      "Iteration: 630000. \n",
      "Test - Loss: 0.6919528841972351. Accuracy: 52.22672064777328\n",
      "Train -  Loss: 0.6904626488685608. Accuracy: 53.182844243792324\n",
      "\n"
     ]
    },
    {
     "name": "stderr",
     "output_type": "stream",
     "text": [
      "Training Epochs:  64%|█████████▌     | 640102/1000000 [09:37<05:23, 1111.39it/s]"
     ]
    },
    {
     "name": "stdout",
     "output_type": "stream",
     "text": [
      "Iteration: 640000. \n",
      "Test - Loss: 0.6919368505477905. Accuracy: 51.821862348178136\n",
      "Train -  Loss: 0.6904199123382568. Accuracy: 53.182844243792324\n",
      "\n"
     ]
    },
    {
     "name": "stderr",
     "output_type": "stream",
     "text": [
      "Training Epochs:  65%|█████████▊     | 650124/1000000 [09:46<05:04, 1150.13it/s]"
     ]
    },
    {
     "name": "stdout",
     "output_type": "stream",
     "text": [
      "Iteration: 650000. \n",
      "Test - Loss: 0.6919204592704773. Accuracy: 52.22672064777328\n",
      "Train -  Loss: 0.6903764605522156. Accuracy: 53.27313769751693\n",
      "\n"
     ]
    },
    {
     "name": "stderr",
     "output_type": "stream",
     "text": [
      "Training Epochs:  66%|█████████▉     | 660118/1000000 [09:55<04:56, 1147.81it/s]"
     ]
    },
    {
     "name": "stdout",
     "output_type": "stream",
     "text": [
      "Iteration: 660000. \n",
      "Test - Loss: 0.6919035911560059. Accuracy: 52.63157894736842\n",
      "Train -  Loss: 0.6903322339057922. Accuracy: 53.22799097065463\n",
      "\n"
     ]
    },
    {
     "name": "stderr",
     "output_type": "stream",
     "text": [
      "Training Epochs:  67%|██████████     | 670122/1000000 [10:04<04:47, 1149.32it/s]"
     ]
    },
    {
     "name": "stdout",
     "output_type": "stream",
     "text": [
      "Iteration: 670000. \n",
      "Test - Loss: 0.6918862462043762. Accuracy: 53.036437246963565\n",
      "Train -  Loss: 0.6902874112129211. Accuracy: 53.318284424379236\n",
      "\n"
     ]
    },
    {
     "name": "stderr",
     "output_type": "stream",
     "text": [
      "Training Epochs:  68%|██████████▏    | 680151/1000000 [10:13<04:37, 1153.32it/s]"
     ]
    },
    {
     "name": "stdout",
     "output_type": "stream",
     "text": [
      "Iteration: 680000. \n",
      "Test - Loss: 0.6918681263923645. Accuracy: 52.63157894736842\n",
      "Train -  Loss: 0.6902420520782471. Accuracy: 53.318284424379236\n",
      "\n"
     ]
    },
    {
     "name": "stderr",
     "output_type": "stream",
     "text": [
      "Training Epochs:  69%|██████████▎    | 690136/1000000 [10:22<04:31, 1140.65it/s]"
     ]
    },
    {
     "name": "stdout",
     "output_type": "stream",
     "text": [
      "Iteration: 690000. \n",
      "Test - Loss: 0.6918493509292603. Accuracy: 53.036437246963565\n",
      "Train -  Loss: 0.6901965737342834. Accuracy: 53.589164785553045\n",
      "\n"
     ]
    },
    {
     "name": "stderr",
     "output_type": "stream",
     "text": [
      "Training Epochs:  70%|██████████▌    | 700224/1000000 [10:32<04:19, 1153.61it/s]"
     ]
    },
    {
     "name": "stdout",
     "output_type": "stream",
     "text": [
      "Iteration: 700000. \n",
      "Test - Loss: 0.6918300986289978. Accuracy: 53.441295546558706\n",
      "Train -  Loss: 0.6901506185531616. Accuracy: 53.589164785553045\n",
      "\n"
     ]
    },
    {
     "name": "stderr",
     "output_type": "stream",
     "text": [
      "Training Epochs:  71%|██████████▋    | 710226/1000000 [10:41<04:18, 1122.75it/s]"
     ]
    },
    {
     "name": "stdout",
     "output_type": "stream",
     "text": [
      "Iteration: 710000. \n",
      "Test - Loss: 0.6918107271194458. Accuracy: 53.036437246963565\n",
      "Train -  Loss: 0.6901042461395264. Accuracy: 53.589164785553045\n",
      "\n"
     ]
    },
    {
     "name": "stderr",
     "output_type": "stream",
     "text": [
      "Training Epochs:  72%|██████████▊    | 720163/1000000 [10:49<04:07, 1130.18it/s]"
     ]
    },
    {
     "name": "stdout",
     "output_type": "stream",
     "text": [
      "Iteration: 720000. \n",
      "Test - Loss: 0.6917911767959595. Accuracy: 53.84615384615385\n",
      "Train -  Loss: 0.6900578737258911. Accuracy: 53.408577878103834\n",
      "\n"
     ]
    },
    {
     "name": "stderr",
     "output_type": "stream",
     "text": [
      "Training Epochs:  73%|██████████▉    | 730164/1000000 [10:58<03:59, 1127.45it/s]"
     ]
    },
    {
     "name": "stdout",
     "output_type": "stream",
     "text": [
      "Iteration: 730000. \n",
      "Test - Loss: 0.691771388053894. Accuracy: 53.84615384615385\n",
      "Train -  Loss: 0.6900113821029663. Accuracy: 53.45372460496614\n",
      "\n"
     ]
    },
    {
     "name": "stderr",
     "output_type": "stream",
     "text": [
      "Training Epochs:  74%|███████████    | 740172/1000000 [11:07<03:49, 1133.62it/s]"
     ]
    },
    {
     "name": "stdout",
     "output_type": "stream",
     "text": [
      "Iteration: 740000. \n",
      "Test - Loss: 0.6917517185211182. Accuracy: 53.84615384615385\n",
      "Train -  Loss: 0.689965009689331. Accuracy: 53.137697516930025\n",
      "\n"
     ]
    },
    {
     "name": "stderr",
     "output_type": "stream",
     "text": [
      "Training Epochs:  75%|███████████▎   | 750121/1000000 [11:16<03:36, 1151.57it/s]"
     ]
    },
    {
     "name": "stdout",
     "output_type": "stream",
     "text": [
      "Iteration: 750000. \n",
      "Test - Loss: 0.6917320489883423. Accuracy: 53.84615384615385\n",
      "Train -  Loss: 0.6899188756942749. Accuracy: 53.182844243792324\n",
      "\n"
     ]
    },
    {
     "name": "stderr",
     "output_type": "stream",
     "text": [
      "Training Epochs:  76%|███████████▍   | 760145/1000000 [11:24<03:28, 1149.90it/s]"
     ]
    },
    {
     "name": "stdout",
     "output_type": "stream",
     "text": [
      "Iteration: 760000. \n",
      "Test - Loss: 0.6917124390602112. Accuracy: 53.84615384615385\n",
      "Train -  Loss: 0.6898730397224426. Accuracy: 53.09255079006772\n",
      "\n"
     ]
    },
    {
     "name": "stderr",
     "output_type": "stream",
     "text": [
      "Training Epochs:  77%|███████████▌   | 770217/1000000 [11:35<03:23, 1128.81it/s]"
     ]
    },
    {
     "name": "stdout",
     "output_type": "stream",
     "text": [
      "Iteration: 770000. \n",
      "Test - Loss: 0.6916929483413696. Accuracy: 53.84615384615385\n",
      "Train -  Loss: 0.6898276209831238. Accuracy: 53.09255079006772\n",
      "\n"
     ]
    },
    {
     "name": "stderr",
     "output_type": "stream",
     "text": [
      "Training Epochs:  78%|███████████▋   | 780176/1000000 [11:43<03:14, 1132.34it/s]"
     ]
    },
    {
     "name": "stdout",
     "output_type": "stream",
     "text": [
      "Iteration: 780000. \n",
      "Test - Loss: 0.691673755645752. Accuracy: 53.84615384615385\n",
      "Train -  Loss: 0.6897826194763184. Accuracy: 53.137697516930025\n",
      "\n"
     ]
    },
    {
     "name": "stderr",
     "output_type": "stream",
     "text": [
      "Training Epochs:  79%|███████████▊   | 790175/1000000 [11:52<03:02, 1147.55it/s]"
     ]
    },
    {
     "name": "stdout",
     "output_type": "stream",
     "text": [
      "Iteration: 790000. \n",
      "Test - Loss: 0.6916550993919373. Accuracy: 54.65587044534413\n",
      "Train -  Loss: 0.6897381544113159. Accuracy: 53.00225733634311\n",
      "\n"
     ]
    },
    {
     "name": "stderr",
     "output_type": "stream",
     "text": [
      "Training Epochs:  80%|████████████   | 800199/1000000 [12:01<02:53, 1150.03it/s]"
     ]
    },
    {
     "name": "stdout",
     "output_type": "stream",
     "text": [
      "Iteration: 800000. \n",
      "Test - Loss: 0.6916362047195435. Accuracy: 54.65587044534413\n",
      "Train -  Loss: 0.6896945238113403. Accuracy: 52.91196388261851\n",
      "\n"
     ]
    },
    {
     "name": "stderr",
     "output_type": "stream",
     "text": [
      "Training Epochs:  81%|████████████▏  | 810174/1000000 [12:10<02:44, 1152.43it/s]"
     ]
    },
    {
     "name": "stdout",
     "output_type": "stream",
     "text": [
      "Iteration: 810000. \n",
      "Test - Loss: 0.6916177868843079. Accuracy: 54.25101214574899\n",
      "Train -  Loss: 0.689651608467102. Accuracy: 52.776523702031604\n",
      "\n"
     ]
    },
    {
     "name": "stderr",
     "output_type": "stream",
     "text": [
      "Training Epochs:  82%|████████████▎  | 820210/1000000 [12:19<02:36, 1148.89it/s]"
     ]
    },
    {
     "name": "stdout",
     "output_type": "stream",
     "text": [
      "Iteration: 820000. \n",
      "Test - Loss: 0.6915996670722961. Accuracy: 54.25101214574899\n",
      "Train -  Loss: 0.6896098256111145. Accuracy: 52.91196388261851\n",
      "\n"
     ]
    },
    {
     "name": "stderr",
     "output_type": "stream",
     "text": [
      "Training Epochs:  83%|█████████████▎  | 830098/1000000 [12:28<03:23, 834.63it/s]"
     ]
    },
    {
     "name": "stdout",
     "output_type": "stream",
     "text": [
      "Iteration: 830000. \n",
      "Test - Loss: 0.6915825605392456. Accuracy: 54.65587044534413\n",
      "Train -  Loss: 0.689568817615509. Accuracy: 53.04740406320542\n",
      "\n"
     ]
    },
    {
     "name": "stderr",
     "output_type": "stream",
     "text": [
      "Training Epochs:  84%|████████████▌  | 840134/1000000 [12:37<02:18, 1151.93it/s]"
     ]
    },
    {
     "name": "stdout",
     "output_type": "stream",
     "text": [
      "Iteration: 840000. \n",
      "Test - Loss: 0.6915661096572876. Accuracy: 54.65587044534413\n",
      "Train -  Loss: 0.6895285248756409. Accuracy: 53.318284424379236\n",
      "\n"
     ]
    },
    {
     "name": "stderr",
     "output_type": "stream",
     "text": [
      "Training Epochs:  85%|████████████▊  | 850143/1000000 [12:46<02:16, 1097.82it/s]"
     ]
    },
    {
     "name": "stdout",
     "output_type": "stream",
     "text": [
      "Iteration: 850000. \n",
      "Test - Loss: 0.6915497183799744. Accuracy: 54.65587044534413\n",
      "Train -  Loss: 0.6894892454147339. Accuracy: 53.318284424379236\n",
      "\n"
     ]
    },
    {
     "name": "stderr",
     "output_type": "stream",
     "text": [
      "Training Epochs:  86%|████████████▉  | 860188/1000000 [12:55<02:01, 1152.41it/s]"
     ]
    },
    {
     "name": "stdout",
     "output_type": "stream",
     "text": [
      "Iteration: 860000. \n",
      "Test - Loss: 0.691534161567688. Accuracy: 54.65587044534413\n",
      "Train -  Loss: 0.6894509196281433. Accuracy: 53.182844243792324\n",
      "\n"
     ]
    },
    {
     "name": "stderr",
     "output_type": "stream",
     "text": [
      "Training Epochs:  87%|█████████████  | 870133/1000000 [13:04<01:54, 1137.94it/s]"
     ]
    },
    {
     "name": "stdout",
     "output_type": "stream",
     "text": [
      "Iteration: 870000. \n",
      "Test - Loss: 0.6915192008018494. Accuracy: 54.65587044534413\n",
      "Train -  Loss: 0.6894137859344482. Accuracy: 53.22799097065463\n",
      "\n"
     ]
    },
    {
     "name": "stderr",
     "output_type": "stream",
     "text": [
      "Training Epochs:  88%|█████████████▏ | 880226/1000000 [13:12<01:42, 1168.28it/s]"
     ]
    },
    {
     "name": "stdout",
     "output_type": "stream",
     "text": [
      "Iteration: 880000. \n",
      "Test - Loss: 0.6915053725242615. Accuracy: 55.06072874493927\n",
      "Train -  Loss: 0.6893774271011353. Accuracy: 53.22799097065463\n",
      "\n"
     ]
    },
    {
     "name": "stderr",
     "output_type": "stream",
     "text": [
      "Training Epochs:  89%|█████████████▎ | 890218/1000000 [13:21<01:37, 1123.92it/s]"
     ]
    },
    {
     "name": "stdout",
     "output_type": "stream",
     "text": [
      "Iteration: 890000. \n",
      "Test - Loss: 0.6914921998977661. Accuracy: 55.87044534412956\n",
      "Train -  Loss: 0.6893421411514282. Accuracy: 53.09255079006772\n",
      "\n"
     ]
    },
    {
     "name": "stderr",
     "output_type": "stream",
     "text": [
      "Training Epochs:  90%|█████████████▌ | 900113/1000000 [13:31<01:33, 1069.50it/s]"
     ]
    },
    {
     "name": "stdout",
     "output_type": "stream",
     "text": [
      "Iteration: 900000. \n",
      "Test - Loss: 0.6914798021316528. Accuracy: 55.465587044534416\n",
      "Train -  Loss: 0.6893079280853271. Accuracy: 53.04740406320542\n",
      "\n"
     ]
    },
    {
     "name": "stderr",
     "output_type": "stream",
     "text": [
      "Training Epochs:  91%|█████████████▋ | 910137/1000000 [13:40<01:22, 1084.14it/s]"
     ]
    },
    {
     "name": "stdout",
     "output_type": "stream",
     "text": [
      "Iteration: 910000. \n",
      "Test - Loss: 0.6914674639701843. Accuracy: 55.465587044534416\n",
      "Train -  Loss: 0.6892750263214111. Accuracy: 52.91196388261851\n",
      "\n"
     ]
    },
    {
     "name": "stderr",
     "output_type": "stream",
     "text": [
      "Training Epochs:  92%|█████████████▊ | 920173/1000000 [13:49<01:13, 1085.73it/s]"
     ]
    },
    {
     "name": "stdout",
     "output_type": "stream",
     "text": [
      "Iteration: 920000. \n",
      "Test - Loss: 0.6914556622505188. Accuracy: 55.465587044534416\n",
      "Train -  Loss: 0.6892431378364563. Accuracy: 53.04740406320542\n",
      "\n"
     ]
    },
    {
     "name": "stderr",
     "output_type": "stream",
     "text": [
      "Training Epochs:  93%|█████████████▉ | 930127/1000000 [13:58<01:02, 1110.11it/s]"
     ]
    },
    {
     "name": "stdout",
     "output_type": "stream",
     "text": [
      "Iteration: 930000. \n",
      "Test - Loss: 0.6914448142051697. Accuracy: 55.87044534412956\n",
      "Train -  Loss: 0.6892120838165283. Accuracy: 53.09255079006772\n",
      "\n"
     ]
    },
    {
     "name": "stderr",
     "output_type": "stream",
     "text": [
      "Training Epochs:  94%|██████████████ | 940212/1000000 [14:07<00:53, 1124.79it/s]"
     ]
    },
    {
     "name": "stdout",
     "output_type": "stream",
     "text": [
      "Iteration: 940000. \n",
      "Test - Loss: 0.6914350986480713. Accuracy: 55.465587044534416\n",
      "Train -  Loss: 0.6891818642616272. Accuracy: 53.22799097065463\n",
      "\n"
     ]
    },
    {
     "name": "stderr",
     "output_type": "stream",
     "text": [
      "Training Epochs:  95%|██████████████▎| 950168/1000000 [14:16<00:46, 1070.46it/s]"
     ]
    },
    {
     "name": "stdout",
     "output_type": "stream",
     "text": [
      "Iteration: 950000. \n",
      "Test - Loss: 0.6914246082305908. Accuracy: 55.465587044534416\n",
      "Train -  Loss: 0.6891528964042664. Accuracy: 53.22799097065463\n",
      "\n"
     ]
    },
    {
     "name": "stderr",
     "output_type": "stream",
     "text": [
      "Training Epochs:  96%|██████████████▍| 960135/1000000 [14:24<00:34, 1149.55it/s]"
     ]
    },
    {
     "name": "stdout",
     "output_type": "stream",
     "text": [
      "Iteration: 960000. \n",
      "Test - Loss: 0.6914145350456238. Accuracy: 55.465587044534416\n",
      "Train -  Loss: 0.6891250014305115. Accuracy: 53.09255079006772\n",
      "\n"
     ]
    },
    {
     "name": "stderr",
     "output_type": "stream",
     "text": [
      "Training Epochs:  97%|██████████████▌| 970169/1000000 [14:34<00:25, 1150.86it/s]"
     ]
    },
    {
     "name": "stdout",
     "output_type": "stream",
     "text": [
      "Iteration: 970000. \n",
      "Test - Loss: 0.6914052963256836. Accuracy: 55.465587044534416\n",
      "Train -  Loss: 0.6890980005264282. Accuracy: 53.09255079006772\n",
      "\n"
     ]
    },
    {
     "name": "stderr",
     "output_type": "stream",
     "text": [
      "Training Epochs:  98%|██████████████▋| 980146/1000000 [14:43<00:17, 1124.30it/s]"
     ]
    },
    {
     "name": "stdout",
     "output_type": "stream",
     "text": [
      "Iteration: 980000. \n",
      "Test - Loss: 0.6913957595825195. Accuracy: 55.06072874493927\n",
      "Train -  Loss: 0.689071774482727. Accuracy: 53.182844243792324\n",
      "\n"
     ]
    },
    {
     "name": "stderr",
     "output_type": "stream",
     "text": [
      "Training Epochs:  99%|██████████████▊| 990230/1000000 [14:52<00:08, 1160.10it/s]"
     ]
    },
    {
     "name": "stdout",
     "output_type": "stream",
     "text": [
      "Iteration: 990000. \n",
      "Test - Loss: 0.6913856863975525. Accuracy: 55.06072874493927\n",
      "Train -  Loss: 0.6890462636947632. Accuracy: 53.137697516930025\n",
      "\n"
     ]
    },
    {
     "name": "stderr",
     "output_type": "stream",
     "text": [
      "Training Epochs: 100%|██████████████| 1000000/1000000 [15:00<00:00, 1109.90it/s]\n"
     ]
    }
   ],
   "source": [
    "# ----------------- TRAIN ------------------\n",
    "losses = []\n",
    "losses_test = []\n",
    "acc = []\n",
    "acc_test =[]\n",
    "Iterations = []\n",
    "iter = 0\n",
    "step = 10000\n",
    "for epoch in tqdm(range(int(epochs)),desc='Training Epochs'):\n",
    "    x = X_train\n",
    "    labels = y_train\n",
    "    optimizer.zero_grad() # Setting our stored gradients equal to zero\n",
    "    outputs = model(X_train)\n",
    "    loss = criterion(torch.squeeze(outputs), labels) \n",
    "    \n",
    "    loss.backward() # Computes the gradient of the given tensor w.r.t. the weights/bias\n",
    "    \n",
    "    optimizer.step() # Updates weights and biases with the optimizer (SGD)\n",
    "    \n",
    "    # Print out benchmarking\n",
    "    if iter%step==0:\n",
    "        with torch.no_grad():\n",
    "            # Calculating the loss and accuracy for the test dataset\n",
    "            correct_test = 0\n",
    "            total_test = 0\n",
    "            outputs_test = torch.squeeze(model(X_test))\n",
    "            loss_test = criterion(outputs_test, y_test)\n",
    "            \n",
    "            predicted_test = outputs_test.cpu().round().detach().numpy()\n",
    "            total_test += y_test.size(0)\n",
    "            correct_test += np.sum(predicted_test == y_test.cpu().detach().numpy())\n",
    "            accuracy_test = 100 * correct_test/total_test\n",
    "            acc_test.append(accuracy_test)\n",
    "            losses_test.append(loss_test.item())\n",
    "            \n",
    "            # Calculating the loss and accuracy for the train dataset\n",
    "            total = 0\n",
    "            correct = 0\n",
    "            total += y_train.size(0)\n",
    "            correct += np.sum(torch.squeeze(outputs).cpu().round().detach().numpy() == y_train.cpu().detach().numpy())\n",
    "            accuracy = 100 * correct/total\n",
    "            acc.append(accuracy)\n",
    "            losses.append(loss.item())\n",
    "            Iterations.append(iter)\n",
    "            \n",
    "            print(f\"Iteration: {iter}. \\nTest - Loss: {loss_test.item()}. Accuracy: {accuracy_test}\")\n",
    "            print(f\"Train -  Loss: {loss.item()}. Accuracy: {accuracy}\\n\")\n",
    "        \n",
    "    iter+=1"
   ]
  },
  {
   "cell_type": "code",
   "execution_count": 35,
   "id": "011a43cf",
   "metadata": {},
   "outputs": [
    {
     "data": {
      "text/plain": [
       "<matplotlib.legend.Legend at 0x7f11cb865b10>"
      ]
     },
     "execution_count": 35,
     "metadata": {},
     "output_type": "execute_result"
    },
    {
     "data": {
      "image/png": "[encoded data removed]",
      "text/plain": [
       "<Figure size 432x288 with 2 Axes>"
      ]
     },
     "metadata": {
      "needs_background": "light"
     },
     "output_type": "display_data"
    }
   ],
   "source": [
    "# ------------------- PLOT RESULTS -------------------\n",
    "fig, (ax1, ax2) = plt.subplots(2, 1)\n",
    "\n",
    "t = np.arange(epochs, step=step)\n",
    "\n",
    "ax1.plot(t, losses,'r', label='train')\n",
    "ax1.plot(t, losses_test, 'b', label='test')\n",
    "ax1.set_xlabel('epochs')\n",
    "ax1.set_ylabel('loss')\n",
    "ax1.legend()\n",
    "\n",
    "ax2.plot(t, acc,'r', label='train')\n",
    "ax2.plot(t, acc_test, 'b', label='test')\n",
    "ax2.set_xlabel('epochs')\n",
    "ax2.set_ylabel('accuracy')\n",
    "ax2.legend()\n"
   ]
  },
  {
   "cell_type": "code",
   "execution_count": null,
   "id": "d423e7d1",
   "metadata": {},
   "outputs": [],
   "source": []
  }
 ],
 "metadata": {
  "kernelspec": {
   "display_name": "Python 3",
   "language": "python",
   "name": "python3"
  },
  "language_info": {
   "codemirror_mode": {
    "name": "ipython",
    "version": 3
   },
   "file_extension": ".py",
   "mimetype": "text/x-python",
   "name": "python",
   "nbconvert_exporter": "python",
   "pygments_lexer": "ipython3",
   "version": "3.7.12"
  }
 },
 "nbformat": 4,
 "nbformat_minor": 5
}
