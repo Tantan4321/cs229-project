{
 "cells": [
  {
   "cell_type": "code",
   "execution_count": 1,
   "id": "1eb514de",
   "metadata": {},
   "outputs": [],
   "source": [
    "import os\n",
    "import torch\n",
    "from tqdm import tqdm\n",
    "import numpy as np"
   ]
  },
  {
   "cell_type": "code",
   "execution_count": 2,
   "id": "bf4ca6e5",
   "metadata": {},
   "outputs": [
    {
     "name": "stdout",
     "output_type": "stream",
     "text": [
      "tensor([2., 3., 1.], device='cuda:0')\n"
     ]
    }
   ],
   "source": [
    "assert torch.cuda.is_available(), 'CUDA is not correctly installed!!'\n",
    "print(torch.tensor([2.0, 3.0, 1.0]).cuda())\n",
    "property = torch.cuda.get_device_properties(0)\n",
    "\n",
    "device = torch.device(\"cuda\" if torch.cuda.is_available() else \"cpu\")"
   ]
  },
  {
   "cell_type": "code",
   "execution_count": 3,
   "id": "9c8a8eb7",
   "metadata": {},
   "outputs": [
    {
     "name": "stdout",
     "output_type": "stream",
     "text": [
      "====== Your GPU info ======\n",
      "name:\t\t Tesla T4\n",
      "capability:\t v7.5\n",
      "memory:\t\t 16 Gb\n",
      "processors:\t 40\n"
     ]
    }
   ],
   "source": [
    "print('====== Your GPU info ======')\n",
    "print('name:\\t\\t', property.name)\n",
    "print('capability:\\t', 'v{}.{}'.format(property.major, property.minor))\n",
    "print('memory:\\t\\t', round(property.total_memory / 1e9), 'Gb')\n",
    "print('processors:\\t', property.multi_processor_count)"
   ]
  },
  {
   "cell_type": "code",
   "execution_count": 4,
   "id": "3ee7bfea",
   "metadata": {},
   "outputs": [
    {
     "name": "stdout",
     "output_type": "stream",
     "text": [
      "(2462, 16)\n",
      "(2462,)\n"
     ]
    }
   ],
   "source": [
    "from sklearn.model_selection import train_test_split\n",
    "from sklearn.datasets import make_classification\n",
    "from sklearn.preprocessing import MinMaxScaler\n",
    "from sklearn.preprocessing import StandardScaler\n",
    "import matplotlib.pyplot as plt\n",
    "\n",
    "\n",
    "# LOAD AND SPLIT DATASET HERE\n",
    "\n",
    "# Load headers\n",
    "csv_path = \"dataset_v2.csv\"\n",
    "\n",
    "with open(csv_path, 'r', newline='') as csv_fh:\n",
    "    headers = csv_fh.readline().strip().split(',')\n",
    "    \n",
    "    \n",
    "label_col = \"Price\"\n",
    "date_col = \"Date(UTC)\"\n",
    "# Load features and labels\n",
    "x_cols = [i for i in range(len(headers)) if (headers[i] != label_col and headers[i] != date_col)]\n",
    "l_cols = [i for i in range(len(headers)) if headers[i] == label_col]\n",
    "inputs = np.loadtxt(csv_path, delimiter=',', skiprows=1, usecols=x_cols)\n",
    "prices = np.loadtxt(csv_path, delimiter=',', skiprows=1, usecols=l_cols)\n",
    "\n",
    "inputs = np.delete(inputs, -1, axis=0)\n",
    "\n",
    "# add intercept\n",
    "new_x = np.zeros((inputs.shape[0], inputs.shape[1] + 1), dtype=inputs.dtype)\n",
    "new_x[:, 0] = 1\n",
    "new_x[:, 1:] = inputs\n",
    "\n",
    "inputs = new_x\n",
    "print(inputs.shape)\n",
    "\n",
    "diff = np.diff(prices)\n",
    "labels = np.where(diff > 0, 1, 0)\n",
    "print(labels.shape)\n",
    "\n",
    "\n",
    "# Feature engineering\n",
    "norm = MinMaxScaler().fit(inputs)\n",
    "inputs = norm.transform(inputs)\n",
    "\n",
    "# apply standardization on numerical features\n",
    "for i in range(inputs.shape[1]):\n",
    "    \n",
    "    # fit on training data column\n",
    "    scale = StandardScaler().fit(inputs[[i]])\n",
    "    \n",
    "    # transform the training data column\n",
    "    inputs[i] = scale.transform(inputs[[i]])\n",
    "\n",
    "\n",
    "X_train, X_test, y_train,  y_test = train_test_split(\n",
    "    inputs, labels, test_size=0.1, random_state=42)\n"
   ]
  },
  {
   "cell_type": "code",
   "execution_count": 5,
   "id": "58b68a5a",
   "metadata": {},
   "outputs": [],
   "source": [
    "class LogisticRegression(torch.nn.Module):\n",
    "    def __init__(self, input_dim, output_dim):\n",
    "        super(LogisticRegression, self).__init__()\n",
    "        self.linear = torch.nn.Linear(input_dim, output_dim)\n",
    "        \n",
    "    def forward(self, x):\n",
    "        outputs = torch.sigmoid(self.linear(x))\n",
    "        return outputs"
   ]
  },
  {
   "cell_type": "code",
   "execution_count": 6,
   "id": "dca575fc",
   "metadata": {},
   "outputs": [],
   "source": [
    "epochs = 100000\n",
    "input_dim = inputs.shape[1] # features \n",
    "output_dim = 1 # price\n",
    "learning_rate = 0.01\n",
    "\n",
    "model = LogisticRegression(input_dim,output_dim).to(device)\n",
    "\n",
    "criterion = torch.nn.BCELoss()\n",
    "\n",
    "optimizer = torch.optim.SGD(model.parameters(), lr=learning_rate)"
   ]
  },
  {
   "cell_type": "code",
   "execution_count": 7,
   "id": "455189da",
   "metadata": {},
   "outputs": [],
   "source": [
    "# Convert data to tensors, move onto GPU\n",
    "\n",
    "X_train, X_test = torch.Tensor(X_train).to(device), torch.Tensor(X_test).to(device)\n",
    "y_train, y_test = torch.Tensor(y_train).to(device), torch.Tensor(y_test).to(device)"
   ]
  },
  {
   "cell_type": "code",
   "execution_count": 8,
   "id": "5cbd5761",
   "metadata": {},
   "outputs": [
    {
     "name": "stderr",
     "output_type": "stream",
     "text": [
      "Training Epochs:   0%|                    | 182/100000 [00:00<04:56, 337.22it/s]"
     ]
    },
    {
     "name": "stdout",
     "output_type": "stream",
     "text": [
      "Iteration: 0. \n",
      "Test - Loss: 0.6949512362480164. Accuracy: 48.987854251012145\n",
      "Train -  Loss: 0.6947212815284729. Accuracy: 49.57110609480813\n",
      "\n"
     ]
    },
    {
     "name": "stderr",
     "output_type": "stream",
     "text": [
      "Training Epochs:  10%|█▋               | 10209/100000 [00:06<00:49, 1811.72it/s]"
     ]
    },
    {
     "name": "stdout",
     "output_type": "stream",
     "text": [
      "Iteration: 10000. \n",
      "Test - Loss: 0.6911235451698303. Accuracy: 53.84615384615385\n",
      "Train -  Loss: 0.6904221177101135. Accuracy: 53.04740406320542\n",
      "\n"
     ]
    },
    {
     "name": "stderr",
     "output_type": "stream",
     "text": [
      "Training Epochs:  20%|███▍             | 20314/100000 [00:11<00:44, 1773.00it/s]"
     ]
    },
    {
     "name": "stdout",
     "output_type": "stream",
     "text": [
      "Iteration: 20000. \n",
      "Test - Loss: 0.6909044981002808. Accuracy: 54.65587044534413\n",
      "Train -  Loss: 0.6897833347320557. Accuracy: 53.09255079006772\n",
      "\n"
     ]
    },
    {
     "name": "stderr",
     "output_type": "stream",
     "text": [
      "Training Epochs:  30%|█████▏           | 30239/100000 [00:17<00:39, 1762.47it/s]"
     ]
    },
    {
     "name": "stdout",
     "output_type": "stream",
     "text": [
      "Iteration: 30000. \n",
      "Test - Loss: 0.6907561421394348. Accuracy: 53.84615384615385\n",
      "Train -  Loss: 0.6894059777259827. Accuracy: 53.04740406320542\n",
      "\n"
     ]
    },
    {
     "name": "stderr",
     "output_type": "stream",
     "text": [
      "Training Epochs:  40%|██████▊          | 40235/100000 [00:23<00:34, 1747.66it/s]"
     ]
    },
    {
     "name": "stdout",
     "output_type": "stream",
     "text": [
      "Iteration: 40000. \n",
      "Test - Loss: 0.6906603574752808. Accuracy: 54.65587044534413\n",
      "Train -  Loss: 0.689155638217926. Accuracy: 52.776523702031604\n",
      "\n"
     ]
    },
    {
     "name": "stderr",
     "output_type": "stream",
     "text": [
      "Training Epochs:  50%|████████▌        | 50162/100000 [00:29<00:39, 1256.78it/s]"
     ]
    },
    {
     "name": "stdout",
     "output_type": "stream",
     "text": [
      "Iteration: 50000. \n",
      "Test - Loss: 0.6905847191810608. Accuracy: 53.84615384615385\n",
      "Train -  Loss: 0.6889777183532715. Accuracy: 52.91196388261851\n",
      "\n"
     ]
    },
    {
     "name": "stderr",
     "output_type": "stream",
     "text": [
      "Training Epochs:  60%|██████████▏      | 60170/100000 [00:37<00:30, 1300.31it/s]"
     ]
    },
    {
     "name": "stdout",
     "output_type": "stream",
     "text": [
      "Iteration: 60000. \n",
      "Test - Loss: 0.6905124187469482. Accuracy: 54.25101214574899\n",
      "Train -  Loss: 0.6888445615768433. Accuracy: 52.64108352144469\n",
      "\n"
     ]
    },
    {
     "name": "stderr",
     "output_type": "stream",
     "text": [
      "Training Epochs:  70%|███████████▉     | 70270/100000 [00:44<00:16, 1773.96it/s]"
     ]
    },
    {
     "name": "stdout",
     "output_type": "stream",
     "text": [
      "Iteration: 70000. \n",
      "Test - Loss: 0.690437376499176. Accuracy: 54.65587044534413\n",
      "Train -  Loss: 0.6887406706809998. Accuracy: 52.7313769751693\n",
      "\n"
     ]
    },
    {
     "name": "stderr",
     "output_type": "stream",
     "text": [
      "Training Epochs:  80%|█████████████▋   | 80356/100000 [00:50<00:10, 1804.53it/s]"
     ]
    },
    {
     "name": "stdout",
     "output_type": "stream",
     "text": [
      "Iteration: 80000. \n",
      "Test - Loss: 0.6903586387634277. Accuracy: 54.25101214574899\n",
      "Train -  Loss: 0.6886566281318665. Accuracy: 52.957110609480814\n",
      "\n"
     ]
    },
    {
     "name": "stderr",
     "output_type": "stream",
     "text": [
      "Training Epochs:  90%|███████████████▎ | 90303/100000 [00:56<00:05, 1804.14it/s]"
     ]
    },
    {
     "name": "stdout",
     "output_type": "stream",
     "text": [
      "Iteration: 90000. \n",
      "Test - Loss: 0.6902770400047302. Accuracy: 53.441295546558706\n",
      "Train -  Loss: 0.6885868310928345. Accuracy: 53.137697516930025\n",
      "\n"
     ]
    },
    {
     "name": "stderr",
     "output_type": "stream",
     "text": [
      "Training Epochs: 100%|████████████████| 100000/100000 [01:02<00:00, 1598.91it/s]\n"
     ]
    }
   ],
   "source": [
    "# ----------------- TRAIN ------------------\n",
    "losses = []\n",
    "losses_test = []\n",
    "acc = []\n",
    "acc_test =[]\n",
    "Iterations = []\n",
    "iter = 0\n",
    "step = 10000\n",
    "for epoch in tqdm(range(int(epochs)),desc='Training Epochs'):\n",
    "    x = X_train\n",
    "    labels = y_train\n",
    "    optimizer.zero_grad() # Setting our stored gradients equal to zero\n",
    "    outputs = model(X_train)\n",
    "    loss = criterion(torch.squeeze(outputs), labels) \n",
    "    \n",
    "    loss.backward() # Computes the gradient of the given tensor w.r.t. the weights/bias\n",
    "    \n",
    "    optimizer.step() # Updates weights and biases with the optimizer (SGD)\n",
    "    \n",
    "    # Print out benchmarking\n",
    "    if iter%step==0:\n",
    "        with torch.no_grad():\n",
    "            # Calculating the loss and accuracy for the test dataset\n",
    "            correct_test = 0\n",
    "            total_test = 0\n",
    "            outputs_test = torch.squeeze(model(X_test))\n",
    "            loss_test = criterion(outputs_test, y_test)\n",
    "            \n",
    "            predicted_test = outputs_test.cpu().round().detach().numpy()\n",
    "            total_test += y_test.size(0)\n",
    "            correct_test += np.sum(predicted_test == y_test.cpu().detach().numpy())\n",
    "            accuracy_test = 100 * correct_test/total_test\n",
    "            acc_test.append(accuracy_test)\n",
    "            losses_test.append(loss_test.item())\n",
    "            \n",
    "            # Calculating the loss and accuracy for the train dataset\n",
    "            total = 0\n",
    "            correct = 0\n",
    "            total += y_train.size(0)\n",
    "            correct += np.sum(torch.squeeze(outputs).cpu().round().detach().numpy() == y_train.cpu().detach().numpy())\n",
    "            accuracy = 100 * correct/total\n",
    "            acc.append(accuracy)\n",
    "            losses.append(loss.item())\n",
    "            Iterations.append(iter)\n",
    "            \n",
    "            print(f\"Iteration: {iter}. \\nTest - Loss: {loss_test.item()}. Accuracy: {accuracy_test}\")\n",
    "            print(f\"Train -  Loss: {loss.item()}. Accuracy: {accuracy}\\n\")\n",
    "        \n",
    "    iter+=1"
   ]
  },
  {
   "cell_type": "code",
   "execution_count": 9,
   "id": "0c2b515e",
   "metadata": {},
   "outputs": [
    {
     "data": {
      "text/plain": [
       "<matplotlib.legend.Legend at 0x7f4f15b09e90>"
      ]
     },
     "execution_count": 9,
     "metadata": {},
     "output_type": "execute_result"
    },
    {
     "data": {
      "image/png": "[encoded data removed]",
      "text/plain": [
       "<Figure size 432x288 with 2 Axes>"
      ]
     },
     "metadata": {
      "needs_background": "light"
     },
     "output_type": "display_data"
    }
   ],
   "source": [
    "# ------------------- PLOT RESULTS -------------------\n",
    "fig, (ax1, ax2) = plt.subplots(2, 1)\n",
    "\n",
    "t = np.arange(epochs, step=step)\n",
    "\n",
    "ax1.plot(t, losses,'r', label='train')\n",
    "ax1.plot(t, losses_test, 'b', label='test')\n",
    "ax1.set_xlabel('epochs')\n",
    "ax1.set_ylabel('loss')\n",
    "ax1.legend()\n",
    "\n",
    "ax2.plot(t, acc,'r', label='train')\n",
    "ax2.plot(t, acc_test, 'b', label='test')\n",
    "ax2.set_xlabel('epochs')\n",
    "ax2.set_ylabel('accuracy')\n",
    "ax2.legend()\n"
   ]
  },
  {
   "cell_type": "code",
   "execution_count": null,
   "id": "8b912bb6",
   "metadata": {},
   "outputs": [],
   "source": []
  }
 ],
 "metadata": {
  "kernelspec": {
   "display_name": "Python 3",
   "language": "python",
   "name": "python3"
  },
  "language_info": {
   "codemirror_mode": {
    "name": "ipython",
    "version": 3
   },
   "file_extension": ".py",
   "mimetype": "text/x-python",
   "name": "python",
   "nbconvert_exporter": "python",
   "pygments_lexer": "ipython3",
   "version": "3.7.12"
  }
 },
 "nbformat": 4,
 "nbformat_minor": 5
}
